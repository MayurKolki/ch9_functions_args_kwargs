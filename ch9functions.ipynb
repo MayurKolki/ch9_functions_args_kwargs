{
 "cells": [
  {
   "cell_type": "markdown",
   "metadata": {},
   "source": [
    "# ch9:functions"
   ]
  },
  {
   "cell_type": "code",
   "execution_count": 1,
   "metadata": {},
   "outputs": [],
   "source": [
    "# 2 types of function\n",
    "#1)pre-defined\n",
    "#2)user-defined\n",
    "\n",
    "#properties of function\n",
    "#every function should have input ,it should hava an output\n",
    "#input fuction \n",
    "#any data types\n",
    "#in python you can take multiple types can be returned\n",
    "#creat your set of function ,and your library, import \n",
    "#key word is -> def\n"
   ]
  },
  {
   "cell_type": "code",
   "execution_count": 2,
   "metadata": {},
   "outputs": [],
   "source": [
    "#function defination\n",
    "def ctof(centi):\n",
    "    far = round((9*centi+160)/5,2)\n",
    "    return(far)\n",
    "##        c/5= F-32/9\n",
    "#          9c=5F-160\n",
    "#         (9c+160)/c=F\n",
    "#        c=(5F-160)/9\n",
    "\n",
    "\n"
   ]
  },
  {
   "cell_type": "code",
   "execution_count": 4,
   "metadata": {},
   "outputs": [
    {
     "name": "stdout",
     "output_type": "stream",
     "text": [
      "temperature in Farenheit = 90.32\n"
     ]
    }
   ],
   "source": [
    "#function cll\n",
    "f=ctof(32.4)\n",
    "print('temperature in Farenheit =',f)"
   ]
  },
  {
   "cell_type": "code",
   "execution_count": 9,
   "metadata": {},
   "outputs": [],
   "source": [
    "#write a function to convert given farehenit to centigrades\n",
    "def ftoc(far):\n",
    "    centi =round(( 5*far - 160)/9,1)\n",
    "    return(centi)"
   ]
  },
  {
   "cell_type": "code",
   "execution_count": 10,
   "metadata": {},
   "outputs": [
    {
     "name": "stdout",
     "output_type": "stream",
     "text": [
      "temperature in Centigrade =  32.4\n"
     ]
    }
   ],
   "source": [
    "#function cll \n",
    "c= ftoc(90.32)\n",
    "print('temperature in Centigrade = ',c)"
   ]
  },
  {
   "cell_type": "code",
   "execution_count": null,
   "metadata": {},
   "outputs": [],
   "source": []
  },
  {
   "cell_type": "markdown",
   "metadata": {},
   "source": [
    "# by reference by value"
   ]
  },
  {
   "cell_type": "code",
   "execution_count": 11,
   "metadata": {},
   "outputs": [],
   "source": [
    "#by reference\n",
    "def f1(mylist):\n",
    "    mylist.append(10)\n",
    "    mylist.append(20)\n",
    "    return(mylist)"
   ]
  },
  {
   "cell_type": "code",
   "execution_count": 21,
   "metadata": {},
   "outputs": [
    {
     "data": {
      "text/plain": [
       "[1, 2, 3, 10, 20]"
      ]
     },
     "execution_count": 21,
     "metadata": {},
     "output_type": "execute_result"
    }
   ],
   "source": [
    "#function cll\n",
    "lst1=[1,2,3]\n",
    "f1(lst1)\n",
    "#print(lst1)"
   ]
  },
  {
   "cell_type": "code",
   "execution_count": 15,
   "metadata": {},
   "outputs": [],
   "source": [
    "#by value\n",
    "def f2(mylist):\n",
    "    mylist = [1,2,3]\n",
    "    mylist.append(55)\n",
    "    mylist.append(66)\n",
    "    return(mylist)\n",
    "    "
   ]
  },
  {
   "cell_type": "code",
   "execution_count": 22,
   "metadata": {
    "collapsed": true
   },
   "outputs": [
    {
     "data": {
      "text/plain": [
       "[100, 200, 300]"
      ]
     },
     "execution_count": 22,
     "metadata": {},
     "output_type": "execute_result"
    }
   ],
   "source": [
    "#function  cll\n",
    "lst2= [100,200,300]\n",
    "f2(lst2)\n",
    "lst2"
   ]
  },
  {
   "cell_type": "code",
   "execution_count": 23,
   "metadata": {},
   "outputs": [
    {
     "data": {
      "text/plain": [
       "[1, 2, 3, 55, 66]"
      ]
     },
     "execution_count": 23,
     "metadata": {},
     "output_type": "execute_result"
    }
   ],
   "source": [
    "f2([100,200,300])"
   ]
  },
  {
   "cell_type": "code",
   "execution_count": null,
   "metadata": {},
   "outputs": [],
   "source": [
    "#mandatory vs optional parameters\n",
    "#return multiple values from a function\n",
    "#whike defining a function , amndatory parameters have to be defined 1st followed by optional parameters\n",
    "#cannot have a mixed sequence of M/O\n",
    "\n",
    "#minvalue, maxvalue\n",
    "def stderror(avg,p=2,k=3):"
   ]
  },
  {
   "cell_type": "code",
   "execution_count": 33,
   "metadata": {},
   "outputs": [],
   "source": [
    "#SE = \\sigma / sqrt(n)\n",
    "#to calculate the range estimation given \n",
    "#mean, standard error and 'n' std dev\n",
    "def getRange(avg,se,k=3):\n",
    "    minr = avg - k*se\n",
    "    maxr = avg + k*se\n",
    "    \n",
    "    return(minr,maxr)"
   ]
  },
  {
   "cell_type": "code",
   "execution_count": 34,
   "metadata": {},
   "outputs": [
    {
     "name": "stdout",
     "output_type": "stream",
     "text": [
      "Range = 84.4 - 96.0\n"
     ]
    }
   ],
   "source": [
    "#function call\n",
    "#no value specified for k\n",
    "minr,maxr = getRange(90.2,1.942)\n",
    "print('Range = {} - {}'.format(round(minr,1),round(maxr,1)))"
   ]
  },
  {
   "cell_type": "code",
   "execution_count": 35,
   "metadata": {},
   "outputs": [
    {
     "name": "stdout",
     "output_type": "stream",
     "text": [
      "Range = 86.3 - 94.1\n"
     ]
    }
   ],
   "source": [
    "#specify K=2\n",
    "minr,maxr = getRange(90.2,1.942,2)\n",
    "print('Range = {} - {}'.format(round(minr,1),round(maxr,1)))"
   ]
  },
  {
   "cell_type": "code",
   "execution_count": 36,
   "metadata": {},
   "outputs": [
    {
     "name": "stdout",
     "output_type": "stream",
     "text": [
      "Range = 88.3 - 92.1\n"
     ]
    }
   ],
   "source": [
    "#specify K=1\n",
    "minr,maxr = getRange(90.2,1.942,1)\n",
    "print('Range = {} - {}'.format(round(minr,1),round(maxr,1)))"
   ]
  },
  {
   "cell_type": "code",
   "execution_count": null,
   "metadata": {},
   "outputs": [],
   "source": []
  },
  {
   "cell_type": "code",
   "execution_count": 37,
   "metadata": {},
   "outputs": [
    {
     "ename": "SyntaxError",
     "evalue": "non-default argument follows default argument (<ipython-input-37-b1f5ea4eb08e>, line 2)",
     "output_type": "error",
     "traceback": [
      "\u001b[1;36m  File \u001b[1;32m\"<ipython-input-37-b1f5ea4eb08e>\"\u001b[1;36m, line \u001b[1;32m2\u001b[0m\n\u001b[1;33m    def getRange(avg,k=3,se):\u001b[0m\n\u001b[1;37m                ^\u001b[0m\n\u001b[1;31mSyntaxError\u001b[0m\u001b[1;31m:\u001b[0m non-default argument follows default argument\n"
     ]
    }
   ],
   "source": [
    "#invalid defn\n",
    "def getRange(avg,k=3,se):\n",
    "    minr = avg - k*se\n",
    "    maxr = avg + k*se\n",
    "    \n",
    "    return(minr,maxr) #that means we can define in your own way, 1st mandatory and then optional"
   ]
  },
  {
   "cell_type": "code",
   "execution_count": 43,
   "metadata": {},
   "outputs": [],
   "source": [
    "#named parameters\n",
    "#\n",
    "def calcWtAvg(v1,v2,v3,w1,w2,w3):\n",
    "    WtAvg = v1*w1 +v2*w2 +v3*w3\n",
    "    return(WtAvg)"
   ]
  },
  {
   "cell_type": "code",
   "execution_count": 39,
   "metadata": {},
   "outputs": [
    {
     "data": {
      "text/plain": [
       "80.75"
      ]
     },
     "execution_count": 39,
     "metadata": {},
     "output_type": "execute_result"
    }
   ],
   "source": [
    "v1=75;v2=90;v3=85\n",
    "w1=0.55;w2=0.25;w3=0.2\n",
    "calcWtAvg(v1,v2,v3,w1,w2,w3)"
   ]
  },
  {
   "cell_type": "code",
   "execution_count": 40,
   "metadata": {},
   "outputs": [
    {
     "data": {
      "text/plain": [
       "58.0"
      ]
     },
     "execution_count": 40,
     "metadata": {},
     "output_type": "execute_result"
    }
   ],
   "source": [
    "calcWtAvg(v1,w2,v2,w2,v3,w3)"
   ]
  },
  {
   "cell_type": "code",
   "execution_count": 41,
   "metadata": {},
   "outputs": [
    {
     "data": {
      "text/plain": [
       "80.75"
      ]
     },
     "execution_count": 41,
     "metadata": {},
     "output_type": "execute_result"
    }
   ],
   "source": [
    "calcWtAvg(w1,w2,w3,v1,v2,v3)"
   ]
  },
  {
   "cell_type": "code",
   "execution_count": 44,
   "metadata": {},
   "outputs": [
    {
     "data": {
      "text/plain": [
       "80.75"
      ]
     },
     "execution_count": 44,
     "metadata": {},
     "output_type": "execute_result"
    }
   ],
   "source": [
    "#named parameters\n",
    "v1=75;v2=90;v3=85\n",
    "w1=0.55;w2=0.25;w3=0.2\n",
    "calcWtAvg(v1=v1,w3=w3,w2=w2,v3=v3,w1=w1,v2=v2)"
   ]
  },
  {
   "cell_type": "code",
   "execution_count": null,
   "metadata": {},
   "outputs": [],
   "source": [
    "#assignments\n",
    "#1) write a function to reverse an input(string/number)\n",
    "#2)write a function to calculate the compund interest and accumlated amount"
   ]
  },
  {
   "cell_type": "code",
   "execution_count": 45,
   "metadata": {},
   "outputs": [
    {
     "name": "stdout",
     "output_type": "stream",
     "text": [
      "['n', 'o', 'h', 't', 'y', 'P']\n"
     ]
    }
   ],
   "source": [
    "#found from 'GOOGLE'\n",
    "str = \"Python\" # initial string\n",
    "reversedString=[]\n",
    "index = len(str) # calculate length of string and save in index\n",
    "while index > 0: \n",
    "    reversedString += str[ index - 1 ] # save the value of str[index-1] in reverseString\n",
    "    index = index - 1 # decrement index\n",
    "print(reversedString) # reversed string\n"
   ]
  },
  {
   "cell_type": "code",
   "execution_count": null,
   "metadata": {},
   "outputs": [],
   "source": [
    "#2)write a function to calculate the compund interest and accumlated amount\n",
    "#done by sir\n",
    "'''\n",
    "C.I. = P(1+r/100)^t - P\n",
    "C.I. Compound Interest\n",
    "P Principal Amount\n",
    "A Total Accumlated Amount\n",
    "r Rate of Interest\n",
    "t Time(in Years)\n",
    "'''"
   ]
  },
  {
   "cell_type": "code",
   "execution_count": 53,
   "metadata": {},
   "outputs": [],
   "source": [
    "#3)  write a function to make a list circular\n",
    "#a b c d e f    =6\n",
    "#22\n",
    "'''\n",
    "[a,  1,   7,   13,   19,\n",
    "b,   2,   8,   14,   20,\n",
    "c,   3,   9,   15,   21,\n",
    "d,   4,  10,   16,   22,\n",
    "e,   5,  11,   17,\n",
    "f,   6,  12,   18,\n",
    "  ]\n",
    "  we have find 22 value which corresponds to 'd'\n",
    "'''\n",
    "\n",
    "'''\n",
    "totallength=6\n",
    "index=23 = e\n",
    "23%6 = 5\n",
    "'''\n",
    "\n",
    "def circList(lst,n):\n",
    "    ndx = n%len(lst)-1\n",
    "    return(lst[ndx])\n",
    "l=['Monday','Tuesday','Wednesday','Thursday','Saturday','Sunday']\n"
   ]
  },
  {
   "cell_type": "code",
   "execution_count": 54,
   "metadata": {},
   "outputs": [
    {
     "data": {
      "text/plain": [
       "'Thursday'"
      ]
     },
     "execution_count": 54,
     "metadata": {},
     "output_type": "execute_result"
    }
   ],
   "source": [
    "circList(l,40)"
   ]
  },
  {
   "cell_type": "code",
   "execution_count": null,
   "metadata": {},
   "outputs": [],
   "source": []
  },
  {
   "cell_type": "code",
   "execution_count": 52,
   "metadata": {},
   "outputs": [
    {
     "data": {
      "text/plain": [
       "[4]"
      ]
     },
     "execution_count": 52,
     "metadata": {},
     "output_type": "execute_result"
    }
   ],
   "source": [
    "[(23%6)-1]"
   ]
  },
  {
   "cell_type": "code",
   "execution_count": null,
   "metadata": {},
   "outputs": [],
   "source": []
  },
  {
   "cell_type": "markdown",
   "metadata": {},
   "source": [
    "# args"
   ]
  },
  {
   "cell_type": "code",
   "execution_count": null,
   "metadata": {},
   "outputs": [],
   "source": [
    "#args\n",
    "def multiply(a,b):\n",
    "    return(a*b)\n",
    "\n",
    "multiply(50,7,10)\n",
    "\n",
    "\n"
   ]
  },
  {
   "cell_type": "code",
   "execution_count": 58,
   "metadata": {},
   "outputs": [
    {
     "data": {
      "text/plain": [
       "2400"
      ]
     },
     "execution_count": 58,
     "metadata": {},
     "output_type": "execute_result"
    }
   ],
   "source": [
    "#args\n",
    "#when your input is not restricted to fixed number of paraeters\n",
    "def multiply(*args):\n",
    "    ans =1\n",
    "    for e in args:\n",
    "        ans*=e\n",
    "    return(ans)\n",
    "multiply(2,3,5,10,2,4)"
   ]
  },
  {
   "cell_type": "code",
   "execution_count": 59,
   "metadata": {},
   "outputs": [
    {
     "data": {
      "text/plain": [
       "2400"
      ]
     },
     "execution_count": 59,
     "metadata": {},
     "output_type": "execute_result"
    }
   ],
   "source": [
    "multiply(2,3,5,10,2,4)  #datatupe of parameter ?->tuple"
   ]
  },
  {
   "cell_type": "markdown",
   "metadata": {},
   "source": [
    "# kwargs"
   ]
  },
  {
   "cell_type": "code",
   "execution_count": 60,
   "metadata": {},
   "outputs": [
    {
     "data": {
      "text/plain": [
       "{'id': 1000, 'name': '', 'age': 0, 'email': ''}"
      ]
     },
     "execution_count": 60,
     "metadata": {},
     "output_type": "execute_result"
    }
   ],
   "source": [
    "#kwargs- key worded arguments\n",
    "#data type ->dictionary\n",
    "\n",
    "#create a dictionary \n",
    "emp={}\n",
    "emp['id']=1000\n",
    "emp['name']=''\n",
    "emp['age']=0\n",
    "emp['email']=''\n",
    "emp\n",
    "\n"
   ]
  },
  {
   "cell_type": "code",
   "execution_count": 62,
   "metadata": {},
   "outputs": [
    {
     "name": "stdout",
     "output_type": "stream",
     "text": [
      "{'id': 1000, 'name': 'sriraman', 'age': 45, 'email': 'crs@myoffice.in'}\n"
     ]
    }
   ],
   "source": [
    "def update(**kwargs):\n",
    "   # print(kwargs)\n",
    "    for k,v in kwargs.items():\n",
    "       emp[k] = v\n",
    "update(name='sriraman',age=45,email='crs@myoffice.in')\n",
    "print(emp)   "
   ]
  },
  {
   "cell_type": "code",
   "execution_count": 79,
   "metadata": {},
   "outputs": [],
   "source": [
    "#combine everything\n",
    "#function definition\n",
    "def record(p1,p2,*args,**kwargs):\n",
    "    print(p1)\n",
    "    print(p2)\n",
    "    \n",
    "    print(args)\n",
    "    print(kwargs)\n",
    " \n",
    "\n",
    "   "
   ]
  },
  {
   "cell_type": "code",
   "execution_count": 80,
   "metadata": {},
   "outputs": [
    {
     "name": "stdout",
     "output_type": "stream",
     "text": [
      "101\n",
      "99.6\n",
      "(1, 2, 3, 4, 5)\n",
      "{'name': 'abc', 'profile': 'analyst', 'experience': 20}\n"
     ]
    }
   ],
   "source": [
    "#function call\n",
    "record(101,99.6,1,2,3,4,5, name='abc',profile='analyst',experience=20)"
   ]
  },
  {
   "cell_type": "markdown",
   "metadata": {},
   "source": [
    "# lambda functions(pseudo function)"
   ]
  },
  {
   "cell_type": "code",
   "execution_count": 81,
   "metadata": {},
   "outputs": [],
   "source": [
    "###lambda functions(pseudo function-> false function)"
   ]
  },
  {
   "cell_type": "code",
   "execution_count": 83,
   "metadata": {},
   "outputs": [
    {
     "data": {
      "text/plain": [
       "25"
      ]
     },
     "execution_count": 83,
     "metadata": {},
     "output_type": "execute_result"
    }
   ],
   "source": [
    "#add 2 numbers\n",
    "ret= lambda x,y:x+y\n",
    "ret(10,15)"
   ]
  },
  {
   "cell_type": "code",
   "execution_count": 84,
   "metadata": {},
   "outputs": [
    {
     "data": {
      "text/plain": [
       "479"
      ]
     },
     "execution_count": 84,
     "metadata": {},
     "output_type": "execute_result"
    }
   ],
   "source": [
    "#add 3 numbers\n",
    "ret = lambda r,g,b:r+g+b\n",
    "ret(255,105,119)"
   ]
  },
  {
   "cell_type": "code",
   "execution_count": 85,
   "metadata": {},
   "outputs": [
    {
     "data": {
      "text/plain": [
       "40"
      ]
     },
     "execution_count": 85,
     "metadata": {},
     "output_type": "execute_result"
    }
   ],
   "source": [
    "#multiply\n",
    "ret= lambda x,y:x*y\n",
    "ret(10,4)"
   ]
  },
  {
   "cell_type": "code",
   "execution_count": 86,
   "metadata": {},
   "outputs": [
    {
     "data": {
      "text/plain": [
       "25"
      ]
     },
     "execution_count": 86,
     "metadata": {},
     "output_type": "execute_result"
    }
   ],
   "source": [
    "#greater of the numbers\n",
    "ret = lambda x,y:x if x>y else y\n",
    "ret(25,16)"
   ]
  },
  {
   "cell_type": "code",
   "execution_count": null,
   "metadata": {},
   "outputs": [],
   "source": [
    "#lambda supports\n",
    "#iterations \n",
    "#filtering"
   ]
  },
  {
   "cell_type": "code",
   "execution_count": 87,
   "metadata": {},
   "outputs": [
    {
     "data": {
      "text/plain": [
       "[4, 9, 16, 25, 36]"
      ]
     },
     "execution_count": 87,
     "metadata": {},
     "output_type": "execute_result"
    }
   ],
   "source": [
    "#iterations\n",
    "num=[2,3,4,5,6]\n",
    "#every number in the list to be squared \n",
    "list(map(lambda x:x**2,num))  #map->applies a function on to an objects and returns what is there "
   ]
  },
  {
   "cell_type": "code",
   "execution_count": 89,
   "metadata": {},
   "outputs": [
    {
     "data": {
      "text/plain": [
       "[1.41, 1.73, 2.0, 2.24, 2.45]"
      ]
     },
     "execution_count": 89,
     "metadata": {},
     "output_type": "execute_result"
    }
   ],
   "source": [
    "#find the square root of elements in num \n",
    "import math\n",
    "#math.sqrt(3)\n",
    "list(map(lambda x:round(math.sqrt(x),2),num))"
   ]
  },
  {
   "cell_type": "code",
   "execution_count": 93,
   "metadata": {},
   "outputs": [
    {
     "data": {
      "text/plain": [
       "[66.66, 124.0, 51.3, 233.53]"
      ]
     },
     "execution_count": 93,
     "metadata": {},
     "output_type": "execute_result"
    }
   ],
   "source": [
    "#calc the AREA of a rectangle\n",
    "L=[10.1,12.4,9,19.3]\n",
    "B=[6.6,10,5.7,12.1]\n",
    "list(map(lambda l,b:round(l*b,2),L,B))"
   ]
  },
  {
   "cell_type": "code",
   "execution_count": 94,
   "metadata": {},
   "outputs": [],
   "source": [
    "#filtering -> meants to extract numbers based on some conditionas "
   ]
  },
  {
   "cell_type": "code",
   "execution_count": 95,
   "metadata": {},
   "outputs": [],
   "source": [
    "import random \n",
    "numlist = random.choices(range(1,100),k=25)"
   ]
  },
  {
   "cell_type": "code",
   "execution_count": 96,
   "metadata": {},
   "outputs": [
    {
     "data": {
      "text/plain": [
       "[77, 85, 95, 91, 88]"
      ]
     },
     "execution_count": 96,
     "metadata": {},
     "output_type": "execute_result"
    }
   ],
   "source": [
    "#get all numbers from list >75                #   \":\"  -> such tha\n",
    "list(filter(lambda x :x>75,numlist))"
   ]
  },
  {
   "cell_type": "code",
   "execution_count": 97,
   "metadata": {},
   "outputs": [
    {
     "data": {
      "text/plain": [
       "[False,\n",
       " False,\n",
       " False,\n",
       " True,\n",
       " False,\n",
       " False,\n",
       " False,\n",
       " True,\n",
       " True,\n",
       " False,\n",
       " True,\n",
       " False,\n",
       " False,\n",
       " False,\n",
       " False,\n",
       " False,\n",
       " False,\n",
       " True,\n",
       " False,\n",
       " False,\n",
       " False,\n",
       " False,\n",
       " False,\n",
       " False,\n",
       " False]"
      ]
     },
     "execution_count": 97,
     "metadata": {},
     "output_type": "execute_result"
    }
   ],
   "source": [
    "list(map(lambda x:x>75,numlist))"
   ]
  },
  {
   "cell_type": "code",
   "execution_count": null,
   "metadata": {},
   "outputs": [],
   "source": []
  },
  {
   "cell_type": "code",
   "execution_count": null,
   "metadata": {},
   "outputs": [],
   "source": [
    "#numpy->number in python,number python matrix"
   ]
  }
 ],
 "metadata": {
  "kernelspec": {
   "display_name": "Python 3",
   "language": "python",
   "name": "python3"
  },
  "language_info": {
   "codemirror_mode": {
    "name": "ipython",
    "version": 3
   },
   "file_extension": ".py",
   "mimetype": "text/x-python",
   "name": "python",
   "nbconvert_exporter": "python",
   "pygments_lexer": "ipython3",
   "version": "3.7.6"
  }
 },
 "nbformat": 4,
 "nbformat_minor": 4
}
